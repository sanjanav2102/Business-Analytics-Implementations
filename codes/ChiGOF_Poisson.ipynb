{
  "nbformat": 4,
  "nbformat_minor": 0,
  "metadata": {
    "colab": {
      "provenance": []
    },
    "kernelspec": {
      "name": "python3",
      "display_name": "Python 3"
    },
    "language_info": {
      "name": "python"
    }
  },
  "cells": [
    {
      "cell_type": "code",
      "execution_count": 1,
      "metadata": {
        "colab": {
          "base_uri": "https://localhost:8080/"
        },
        "id": "0pGfJYFuzCSl",
        "outputId": "52b60639-44d7-4782-b96b-5b7ae1185c4c"
      },
      "outputs": [
        {
          "output_type": "stream",
          "name": "stdout",
          "text": [
            "   obs\n",
            "0    5\n",
            "1    4\n",
            "2    4\n",
            "3    5\n",
            "4    5\n",
            "(100, 1)\n"
          ]
        }
      ],
      "source": [
        "#Importing Basic Packages and Reading the Data\n",
        "import numpy as np\n",
        "import pandas as pd\n",
        "df = pd.read_excel('data_Poisson.xlsx')\n",
        "\n",
        "print(df.head())\n",
        "print(df.shape)"
      ]
    },
    {
      "cell_type": "code",
      "source": [
        "#Visualize the data as a histogram\n",
        "import matplotlib.pyplot as plt\n",
        "plt.hist(df['obs'])\n",
        "plt.show()\n"
      ],
      "metadata": {
        "colab": {
          "base_uri": "https://localhost:8080/",
          "height": 430
        },
        "id": "h02TaTmIzRXK",
        "outputId": "86fc7142-7dbf-4bf3-8c08-bfed41e7793e"
      },
      "execution_count": 2,
      "outputs": [
        {
          "output_type": "display_data",
          "data": {
            "text/plain": [
              "<Figure size 640x480 with 1 Axes>"
            ],
            "image/png": "[encoded data removed]"
          },
          "metadata": {}
        }
      ]
    },
    {
      "cell_type": "code",
      "source": [
        "#Get the Descriptive statistics for the data\n",
        "df.describe()"
      ],
      "metadata": {
        "colab": {
          "base_uri": "https://localhost:8080/",
          "height": 300
        },
        "id": "4q0DVIvKzru4",
        "outputId": "0f4758ad-a352-47cd-c77a-7cbc6b7239b9"
      },
      "execution_count": 3,
      "outputs": [
        {
          "output_type": "execute_result",
          "data": {
            "text/plain": [
              "              obs\n",
              "count  100.000000\n",
              "mean     4.940000\n",
              "std      2.381834\n",
              "min      1.000000\n",
              "25%      3.000000\n",
              "50%      5.000000\n",
              "75%      6.000000\n",
              "max     11.000000"
            ],
            "text/html": [
              "\n",
              "  <div id=\"df-ad9838ce-7a1b-4de8-a9ce-e1963607ff76\">\n",
              "    <div class=\"colab-df-container\">\n",
              "      <div>\n",
              "<style scoped>\n",
              "    .dataframe tbody tr th:only-of-type {\n",
              "        vertical-align: middle;\n",
              "    }\n",
              "\n",
              "    .dataframe tbody tr th {\n",
              "        vertical-align: top;\n",
              "    }\n",
              "\n",
              "    .dataframe thead th {\n",
              "        text-align: right;\n",
              "    }\n",
              "</style>\n",
              "<table border=\"1\" class=\"dataframe\">\n",
              "  <thead>\n",
              "    <tr style=\"text-align: right;\">\n",
              "      <th></th>\n",
              "      <th>obs</th>\n",
              "    </tr>\n",
              "  </thead>\n",
              "  <tbody>\n",
              "    <tr>\n",
              "      <th>count</th>\n",
              "      <td>100.000000</td>\n",
              "    </tr>\n",
              "    <tr>\n",
              "      <th>mean</th>\n",
              "      <td>4.940000</td>\n",
              "    </tr>\n",
              "    <tr>\n",
              "      <th>std</th>\n",
              "      <td>2.381834</td>\n",
              "    </tr>\n",
              "    <tr>\n",
              "      <th>min</th>\n",
              "      <td>1.000000</td>\n",
              "    </tr>\n",
              "    <tr>\n",
              "      <th>25%</th>\n",
              "      <td>3.000000</td>\n",
              "    </tr>\n",
              "    <tr>\n",
              "      <th>50%</th>\n",
              "      <td>5.000000</td>\n",
              "    </tr>\n",
              "    <tr>\n",
              "      <th>75%</th>\n",
              "      <td>6.000000</td>\n",
              "    </tr>\n",
              "    <tr>\n",
              "      <th>max</th>\n",
              "      <td>11.000000</td>\n",
              "    </tr>\n",
              "  </tbody>\n",
              "</table>\n",
              "</div>\n",
              "      <button class=\"colab-df-convert\" onclick=\"convertToInteractive('df-ad9838ce-7a1b-4de8-a9ce-e1963607ff76')\"\n",
              "              title=\"Convert this dataframe to an interactive table.\"\n",
              "              style=\"display:none;\">\n",
              "        \n",
              "  <svg xmlns=\"http://www.w3.org/2000/svg\" height=\"24px\"viewBox=\"0 0 24 24\"\n",
              "       width=\"24px\">\n",
              "    <path d=\"M0 0h24v24H0V0z\" fill=\"none\"/>\n",
              "    <path d=\"M18.56 5.44l.94 2.06.94-2.06 2.06-.94-2.06-.94-.94-2.06-.94 2.06-2.06.94zm-11 1L8.5 8.5l.94-2.06 2.06-.94-2.06-.94L8.5 2.5l-.94 2.06-2.06.94zm10 10l.94 2.06.94-2.06 2.06-.94-2.06-.94-.94-2.06-.94 2.06-2.06.94z\"/><path d=\"M17.41 7.96l-1.37-1.37c-.4-.4-.92-.59-1.43-.59-.52 0-1.04.2-1.43.59L10.3 9.45l-7.72 7.72c-.78.78-.78 2.05 0 2.83L4 21.41c.39.39.9.59 1.41.59.51 0 1.02-.2 1.41-.59l7.78-7.78 2.81-2.81c.8-.78.8-2.07 0-2.86zM5.41 20L4 18.59l7.72-7.72 1.47 1.35L5.41 20z\"/>\n",
              "  </svg>\n",
              "      </button>\n",
              "      \n",
              "  <style>\n",
              "    .colab-df-container {\n",
              "      display:flex;\n",
              "      flex-wrap:wrap;\n",
              "      gap: 12px;\n",
              "    }\n",
              "\n",
              "    .colab-df-convert {\n",
              "      background-color: #E8F0FE;\n",
              "      border: none;\n",
              "      border-radius: 50%;\n",
              "      cursor: pointer;\n",
              "      display: none;\n",
              "      fill: #1967D2;\n",
              "      height: 32px;\n",
              "      padding: 0 0 0 0;\n",
              "      width: 32px;\n",
              "    }\n",
              "\n",
              "    .colab-df-convert:hover {\n",
              "      background-color: #E2EBFA;\n",
              "      box-shadow: 0px 1px 2px rgba(60, 64, 67, 0.3), 0px 1px 3px 1px rgba(60, 64, 67, 0.15);\n",
              "      fill: #174EA6;\n",
              "    }\n",
              "\n",
              "    [theme=dark] .colab-df-convert {\n",
              "      background-color: #3B4455;\n",
              "      fill: #D2E3FC;\n",
              "    }\n",
              "\n",
              "    [theme=dark] .colab-df-convert:hover {\n",
              "      background-color: #434B5C;\n",
              "      box-shadow: 0px 1px 3px 1px rgba(0, 0, 0, 0.15);\n",
              "      filter: drop-shadow(0px 1px 2px rgba(0, 0, 0, 0.3));\n",
              "      fill: #FFFFFF;\n",
              "    }\n",
              "  </style>\n",
              "\n",
              "      <script>\n",
              "        const buttonEl =\n",
              "          document.querySelector('#df-ad9838ce-7a1b-4de8-a9ce-e1963607ff76 button.colab-df-convert');\n",
              "        buttonEl.style.display =\n",
              "          google.colab.kernel.accessAllowed ? 'block' : 'none';\n",
              "\n",
              "        async function convertToInteractive(key) {\n",
              "          const element = document.querySelector('#df-ad9838ce-7a1b-4de8-a9ce-e1963607ff76');\n",
              "          const dataTable =\n",
              "            await google.colab.kernel.invokeFunction('convertToInteractive',\n",
              "                                                     [key], {});\n",
              "          if (!dataTable) return;\n",
              "\n",
              "          const docLinkHtml = 'Like what you see? Visit the ' +\n",
              "            '<a target=\"_blank\" href=https://colab.research.google.com/notebooks/data_table.ipynb>data table notebook</a>'\n",
              "            + ' to learn more about interactive tables.';\n",
              "          element.innerHTML = '';\n",
              "          dataTable['output_type'] = 'display_data';\n",
              "          await google.colab.output.renderOutput(dataTable, element);\n",
              "          const docLink = document.createElement('div');\n",
              "          docLink.innerHTML = docLinkHtml;\n",
              "          element.appendChild(docLink);\n",
              "        }\n",
              "      </script>\n",
              "    </div>\n",
              "  </div>\n",
              "  "
            ]
          },
          "metadata": {},
          "execution_count": 3
        }
      ]
    },
    {
      "cell_type": "code",
      "source": [
        "#Some additional descriptive statistics\n",
        "stats_labels = ['Variance Observed', 'Skew Observed', 'Kurt Observed']\n",
        "stats_values = [round(df['obs'].var(), 2), round(df['obs'].skew(),2), round(df['obs'].kurt(),2)]\n",
        "print(set(zip(stats_labels, stats_values)))\n"
      ],
      "metadata": {
        "colab": {
          "base_uri": "https://localhost:8080/"
        },
        "id": "7pFsqJi5zy8O",
        "outputId": "15b91bfc-d966-4923-bda6-1ce7ee8ec783"
      },
      "execution_count": 4,
      "outputs": [
        {
          "output_type": "stream",
          "name": "stdout",
          "text": [
            "{('Variance Observed', 5.67), ('Skew Observed', 0.51), ('Kurt Observed', -0.38)}\n"
          ]
        }
      ]
    },
    {
      "cell_type": "code",
      "source": [
        "#Importing the required statistical packages\n",
        "import statsmodels.api as sm\n",
        "import scipy.stats as stats\n",
        "from scipy.stats import norm, uniform, poisson\n",
        "from statsmodels.graphics.gofplots import qqplot\n",
        "from scipy.stats import chisquare\n",
        "from scipy.stats import chi2\n",
        "\n",
        "#New\n",
        "from scipy.stats import poisson"
      ],
      "metadata": {
        "id": "JweW3Jar0QeT"
      },
      "execution_count": 5,
      "outputs": []
    },
    {
      "cell_type": "code",
      "source": [
        "# NULL HYPOTHESIS: The given data follows Uniform distribution.\n",
        "# ALTERNATE HYPOTHESIS: The given data does not follow Uniform distribution\n"
      ],
      "metadata": {
        "id": "9wD1dfET0z7m"
      },
      "execution_count": 6,
      "outputs": []
    },
    {
      "cell_type": "code",
      "source": [
        "#Step-1 in CHi-Square GOF: Create Bins\n",
        "df['Bins'] = pd.cut(df['obs'], bins=10)\n",
        "print(df)"
      ],
      "metadata": {
        "colab": {
          "base_uri": "https://localhost:8080/"
        },
        "id": "k9heatK11uXT",
        "outputId": "48d39f42-02c5-4617-9e22-f884335f3d75"
      },
      "execution_count": 7,
      "outputs": [
        {
          "output_type": "stream",
          "name": "stdout",
          "text": [
            "    obs         Bins\n",
            "0     5   (4.0, 5.0]\n",
            "1     4   (3.0, 4.0]\n",
            "2     4   (3.0, 4.0]\n",
            "3     5   (4.0, 5.0]\n",
            "4     5   (4.0, 5.0]\n",
            "..  ...          ...\n",
            "95    6   (5.0, 6.0]\n",
            "96    8   (7.0, 8.0]\n",
            "97    6   (5.0, 6.0]\n",
            "98    2  (0.99, 2.0]\n",
            "99    3   (2.0, 3.0]\n",
            "\n",
            "[100 rows x 2 columns]\n"
          ]
        }
      ]
    },
    {
      "cell_type": "code",
      "source": [
        "#Step-2 in CHi-Square GOF: Count Number of Observations in Each Bin\n",
        "df_2 = pd.DataFrame()\n",
        "df_2 [\"Observed Frequency\"] = (df.groupby('Bins').count())\n",
        "df_2"
      ],
      "metadata": {
        "colab": {
          "base_uri": "https://localhost:8080/",
          "height": 394
        },
        "id": "ogg-6YYZ1DUa",
        "outputId": "04f766b3-97f9-431c-f14c-f64219376d7c"
      },
      "execution_count": 8,
      "outputs": [
        {
          "output_type": "execute_result",
          "data": {
            "text/plain": [
              "              Observed Frequency\n",
              "Bins                            \n",
              "(0.99, 2.0]                   17\n",
              "(2.0, 3.0]                    15\n",
              "(3.0, 4.0]                    16\n",
              "(4.0, 5.0]                    13\n",
              "(5.0, 6.0]                    15\n",
              "(6.0, 7.0]                     8\n",
              "(7.0, 8.0]                     7\n",
              "(8.0, 9.0]                     5\n",
              "(9.0, 10.0]                    2\n",
              "(10.0, 11.0]                   2"
            ],
            "text/html": [
              "\n",
              "  <div id=\"df-49ada97f-96ea-43ed-9c7d-74abd143d744\">\n",
              "    <div class=\"colab-df-container\">\n",
              "      <div>\n",
              "<style scoped>\n",
              "    .dataframe tbody tr th:only-of-type {\n",
              "        vertical-align: middle;\n",
              "    }\n",
              "\n",
              "    .dataframe tbody tr th {\n",
              "        vertical-align: top;\n",
              "    }\n",
              "\n",
              "    .dataframe thead th {\n",
              "        text-align: right;\n",
              "    }\n",
              "</style>\n",
              "<table border=\"1\" class=\"dataframe\">\n",
              "  <thead>\n",
              "    <tr style=\"text-align: right;\">\n",
              "      <th></th>\n",
              "      <th>Observed Frequency</th>\n",
              "    </tr>\n",
              "    <tr>\n",
              "      <th>Bins</th>\n",
              "      <th></th>\n",
              "    </tr>\n",
              "  </thead>\n",
              "  <tbody>\n",
              "    <tr>\n",
              "      <th>(0.99, 2.0]</th>\n",
              "      <td>17</td>\n",
              "    </tr>\n",
              "    <tr>\n",
              "      <th>(2.0, 3.0]</th>\n",
              "      <td>15</td>\n",
              "    </tr>\n",
              "    <tr>\n",
              "      <th>(3.0, 4.0]</th>\n",
              "      <td>16</td>\n",
              "    </tr>\n",
              "    <tr>\n",
              "      <th>(4.0, 5.0]</th>\n",
              "      <td>13</td>\n",
              "    </tr>\n",
              "    <tr>\n",
              "      <th>(5.0, 6.0]</th>\n",
              "      <td>15</td>\n",
              "    </tr>\n",
              "    <tr>\n",
              "      <th>(6.0, 7.0]</th>\n",
              "      <td>8</td>\n",
              "    </tr>\n",
              "    <tr>\n",
              "      <th>(7.0, 8.0]</th>\n",
              "      <td>7</td>\n",
              "    </tr>\n",
              "    <tr>\n",
              "      <th>(8.0, 9.0]</th>\n",
              "      <td>5</td>\n",
              "    </tr>\n",
              "    <tr>\n",
              "      <th>(9.0, 10.0]</th>\n",
              "      <td>2</td>\n",
              "    </tr>\n",
              "    <tr>\n",
              "      <th>(10.0, 11.0]</th>\n",
              "      <td>2</td>\n",
              "    </tr>\n",
              "  </tbody>\n",
              "</table>\n",
              "</div>\n",
              "      <button class=\"colab-df-convert\" onclick=\"convertToInteractive('df-49ada97f-96ea-43ed-9c7d-74abd143d744')\"\n",
              "              title=\"Convert this dataframe to an interactive table.\"\n",
              "              style=\"display:none;\">\n",
              "        \n",
              "  <svg xmlns=\"http://www.w3.org/2000/svg\" height=\"24px\"viewBox=\"0 0 24 24\"\n",
              "       width=\"24px\">\n",
              "    <path d=\"M0 0h24v24H0V0z\" fill=\"none\"/>\n",
              "    <path d=\"M18.56 5.44l.94 2.06.94-2.06 2.06-.94-2.06-.94-.94-2.06-.94 2.06-2.06.94zm-11 1L8.5 8.5l.94-2.06 2.06-.94-2.06-.94L8.5 2.5l-.94 2.06-2.06.94zm10 10l.94 2.06.94-2.06 2.06-.94-2.06-.94-.94-2.06-.94 2.06-2.06.94z\"/><path d=\"M17.41 7.96l-1.37-1.37c-.4-.4-.92-.59-1.43-.59-.52 0-1.04.2-1.43.59L10.3 9.45l-7.72 7.72c-.78.78-.78 2.05 0 2.83L4 21.41c.39.39.9.59 1.41.59.51 0 1.02-.2 1.41-.59l7.78-7.78 2.81-2.81c.8-.78.8-2.07 0-2.86zM5.41 20L4 18.59l7.72-7.72 1.47 1.35L5.41 20z\"/>\n",
              "  </svg>\n",
              "      </button>\n",
              "      \n",
              "  <style>\n",
              "    .colab-df-container {\n",
              "      display:flex;\n",
              "      flex-wrap:wrap;\n",
              "      gap: 12px;\n",
              "    }\n",
              "\n",
              "    .colab-df-convert {\n",
              "      background-color: #E8F0FE;\n",
              "      border: none;\n",
              "      border-radius: 50%;\n",
              "      cursor: pointer;\n",
              "      display: none;\n",
              "      fill: #1967D2;\n",
              "      height: 32px;\n",
              "      padding: 0 0 0 0;\n",
              "      width: 32px;\n",
              "    }\n",
              "\n",
              "    .colab-df-convert:hover {\n",
              "      background-color: #E2EBFA;\n",
              "      box-shadow: 0px 1px 2px rgba(60, 64, 67, 0.3), 0px 1px 3px 1px rgba(60, 64, 67, 0.15);\n",
              "      fill: #174EA6;\n",
              "    }\n",
              "\n",
              "    [theme=dark] .colab-df-convert {\n",
              "      background-color: #3B4455;\n",
              "      fill: #D2E3FC;\n",
              "    }\n",
              "\n",
              "    [theme=dark] .colab-df-convert:hover {\n",
              "      background-color: #434B5C;\n",
              "      box-shadow: 0px 1px 3px 1px rgba(0, 0, 0, 0.15);\n",
              "      filter: drop-shadow(0px 1px 2px rgba(0, 0, 0, 0.3));\n",
              "      fill: #FFFFFF;\n",
              "    }\n",
              "  </style>\n",
              "\n",
              "      <script>\n",
              "        const buttonEl =\n",
              "          document.querySelector('#df-49ada97f-96ea-43ed-9c7d-74abd143d744 button.colab-df-convert');\n",
              "        buttonEl.style.display =\n",
              "          google.colab.kernel.accessAllowed ? 'block' : 'none';\n",
              "\n",
              "        async function convertToInteractive(key) {\n",
              "          const element = document.querySelector('#df-49ada97f-96ea-43ed-9c7d-74abd143d744');\n",
              "          const dataTable =\n",
              "            await google.colab.kernel.invokeFunction('convertToInteractive',\n",
              "                                                     [key], {});\n",
              "          if (!dataTable) return;\n",
              "\n",
              "          const docLinkHtml = 'Like what you see? Visit the ' +\n",
              "            '<a target=\"_blank\" href=https://colab.research.google.com/notebooks/data_table.ipynb>data table notebook</a>'\n",
              "            + ' to learn more about interactive tables.';\n",
              "          element.innerHTML = '';\n",
              "          dataTable['output_type'] = 'display_data';\n",
              "          await google.colab.output.renderOutput(dataTable, element);\n",
              "          const docLink = document.createElement('div');\n",
              "          docLink.innerHTML = docLinkHtml;\n",
              "          element.appendChild(docLink);\n",
              "        }\n",
              "      </script>\n",
              "    </div>\n",
              "  </div>\n",
              "  "
            ]
          },
          "metadata": {},
          "execution_count": 8
        }
      ]
    },
    {
      "cell_type": "code",
      "source": [
        "# I cannot use the above method of forming bins, as Poisson Distribution is \"Discrete\". So, I adopt the following method. \n",
        "\n",
        "#Step-2 in CHi-Square GOF: Count Number of Observations in Each Bin"
      ],
      "metadata": {
        "id": "-DoNMeAF1I45"
      },
      "execution_count": 9,
      "outputs": []
    },
    {
      "cell_type": "code",
      "source": [
        "#Step-2A: Creating a new data frame\n",
        "grouped_df = pd.DataFrame()\n",
        "print(grouped_df)\n"
      ],
      "metadata": {
        "colab": {
          "base_uri": "https://localhost:8080/"
        },
        "id": "VlHgRF7rHdBs",
        "outputId": "584bbc11-08d4-4fc4-bc07-47e466ace5dd"
      },
      "execution_count": 10,
      "outputs": [
        {
          "output_type": "stream",
          "name": "stdout",
          "text": [
            "Empty DataFrame\n",
            "Columns: []\n",
            "Index: []\n"
          ]
        }
      ]
    },
    {
      "cell_type": "code",
      "source": [
        "#Step-2B: Creating buckets based on the values in the sample \n",
        "grouped_df['Observed Frequency']= df.groupby('obs')['obs'].count()\n",
        "print(grouped_df)"
      ],
      "metadata": {
        "colab": {
          "base_uri": "https://localhost:8080/"
        },
        "id": "H-pWZHN6HdZg",
        "outputId": "d317e190-009a-4753-e098-08e5a340bda5"
      },
      "execution_count": 11,
      "outputs": [
        {
          "output_type": "stream",
          "name": "stdout",
          "text": [
            "     Observed Frequency\n",
            "obs                    \n",
            "1                     3\n",
            "2                    14\n",
            "3                    15\n",
            "4                    16\n",
            "5                    13\n",
            "6                    15\n",
            "7                     8\n",
            "8                     7\n",
            "9                     5\n",
            "10                    2\n",
            "11                    2\n"
          ]
        }
      ]
    },
    {
      "cell_type": "code",
      "source": [
        "#Step-3: Determining the Expected Frequency in Each Bin\n",
        "#Step-3A: Determined the Poisson PMF for each bucket\n",
        "grouped_df['POISSON_PMF'] = poisson.pmf(k=grouped_df.index, mu=df['obs'].mean())\n",
        "print(grouped_df)"
      ],
      "metadata": {
        "colab": {
          "base_uri": "https://localhost:8080/"
        },
        "id": "7R_XR7rXH0kM",
        "outputId": "ede86e1e-14f9-4d53-f491-cadd6e3ab27e"
      },
      "execution_count": 12,
      "outputs": [
        {
          "output_type": "stream",
          "name": "stdout",
          "text": [
            "     Observed Frequency  POISSON_PMF\n",
            "obs                                 \n",
            "1                     3     0.035344\n",
            "2                    14     0.087299\n",
            "3                    15     0.143752\n",
            "4                    16     0.177534\n",
            "5                    13     0.175404\n",
            "6                    15     0.144416\n",
            "7                     8     0.101916\n",
            "8                     7     0.062933\n",
            "9                     5     0.034543\n",
            "10                    2     0.017064\n",
            "11                    2     0.007663\n"
          ]
        }
      ]
    },
    {
      "cell_type": "code",
      "source": [
        "#Step-3B: Determined the expected frequency in each bucket\n",
        "grouped_df['Expected Frequency'] = grouped_df['POISSON_PMF']*len(df)\n",
        "print(grouped_df)"
      ],
      "metadata": {
        "colab": {
          "base_uri": "https://localhost:8080/"
        },
        "id": "QYvg6RFQJTxT",
        "outputId": "5ab17e24-cfc5-49d9-fbef-2fa7783258ea"
      },
      "execution_count": 13,
      "outputs": [
        {
          "output_type": "stream",
          "name": "stdout",
          "text": [
            "     Observed Frequency  POISSON_PMF  Expected Frequency\n",
            "obs                                                     \n",
            "1                     3     0.035344            3.534372\n",
            "2                    14     0.087299            8.729898\n",
            "3                    15     0.143752           14.375232\n",
            "4                    16     0.177534           17.753411\n",
            "5                    13     0.175404           17.540370\n",
            "6                    15     0.144416           14.441572\n",
            "7                     8     0.101916           10.191623\n",
            "8                     7     0.062933            6.293327\n",
            "9                     5     0.034543            3.454337\n",
            "10                    2     0.017064            1.706443\n",
            "11                    2     0.007663            0.766348\n"
          ]
        }
      ]
    },
    {
      "cell_type": "code",
      "source": [
        "#Step-4A in CHi-Square GOF: Determine the Test Statistics and P-Value \n",
        "chisquare(grouped_df['Observed Frequency'], grouped_df['Expected Frequency'])"
      ],
      "metadata": {
        "colab": {
          "base_uri": "https://localhost:8080/",
          "height": 381
        },
        "id": "CvemZah61NZN",
        "outputId": "01e7a8c7-ed4d-43d7-d01a-f5702af1714a"
      },
      "execution_count": 14,
      "outputs": [
        {
          "output_type": "error",
          "ename": "ValueError",
          "evalue": "ignored",
          "traceback": [
            "\u001b[0;31m---------------------------------------------------------------------------\u001b[0m",
            "\u001b[0;31mValueError\u001b[0m                                Traceback (most recent call last)",
            "\u001b[0;32m<ipython-input-14-5e64dd77ca3f>\u001b[0m in \u001b[0;36m<cell line: 2>\u001b[0;34m()\u001b[0m\n\u001b[1;32m      1\u001b[0m \u001b[0;31m#Step-4A in CHi-Square GOF: Determine the Test Statistics and P-Value\u001b[0m\u001b[0;34m\u001b[0m\u001b[0;34m\u001b[0m\u001b[0m\n\u001b[0;32m----> 2\u001b[0;31m \u001b[0mchisquare\u001b[0m\u001b[0;34m(\u001b[0m\u001b[0mgrouped_df\u001b[0m\u001b[0;34m[\u001b[0m\u001b[0;34m'Observed Frequency'\u001b[0m\u001b[0;34m]\u001b[0m\u001b[0;34m,\u001b[0m \u001b[0mgrouped_df\u001b[0m\u001b[0;34m[\u001b[0m\u001b[0;34m'Expected Frequency'\u001b[0m\u001b[0;34m]\u001b[0m\u001b[0;34m)\u001b[0m\u001b[0;34m\u001b[0m\u001b[0;34m\u001b[0m\u001b[0m\n\u001b[0m",
            "\u001b[0;32m/usr/local/lib/python3.10/dist-packages/scipy/stats/_stats_py.py\u001b[0m in \u001b[0;36mchisquare\u001b[0;34m(f_obs, f_exp, ddof, axis)\u001b[0m\n\u001b[1;32m   7551\u001b[0m \u001b[0;34m\u001b[0m\u001b[0m\n\u001b[1;32m   7552\u001b[0m     \"\"\"\n\u001b[0;32m-> 7553\u001b[0;31m     return power_divergence(f_obs, f_exp=f_exp, ddof=ddof, axis=axis,\n\u001b[0m\u001b[1;32m   7554\u001b[0m                             lambda_=\"pearson\")\n\u001b[1;32m   7555\u001b[0m \u001b[0;34m\u001b[0m\u001b[0m\n",
            "\u001b[0;32m/usr/local/lib/python3.10/dist-packages/scipy/stats/_stats_py.py\u001b[0m in \u001b[0;36mpower_divergence\u001b[0;34m(f_obs, f_exp, ddof, axis, lambda_)\u001b[0m\n\u001b[1;32m   7392\u001b[0m                    \u001b[0;34mf\"of {rtol}, but the percent differences are:\\n\"\u001b[0m\u001b[0;34m\u001b[0m\u001b[0;34m\u001b[0m\u001b[0m\n\u001b[1;32m   7393\u001b[0m                    f\"{relative_diff}\")\n\u001b[0;32m-> 7394\u001b[0;31m             \u001b[0;32mraise\u001b[0m \u001b[0mValueError\u001b[0m\u001b[0;34m(\u001b[0m\u001b[0mmsg\u001b[0m\u001b[0;34m)\u001b[0m\u001b[0;34m\u001b[0m\u001b[0;34m\u001b[0m\u001b[0m\n\u001b[0m\u001b[1;32m   7395\u001b[0m \u001b[0;34m\u001b[0m\u001b[0m\n\u001b[1;32m   7396\u001b[0m     \u001b[0;32melse\u001b[0m\u001b[0;34m:\u001b[0m\u001b[0;34m\u001b[0m\u001b[0;34m\u001b[0m\u001b[0m\n",
            "\u001b[0;31mValueError\u001b[0m: For each axis slice, the sum of the observed frequencies must agree with the sum of the expected frequencies to a relative tolerance of 1e-08, but the percent differences are:\n0.012279627592810389"
          ]
        }
      ]
    },
    {
      "cell_type": "code",
      "source": [
        "#The above error occures because of the mismatch between the number (count) of values in the \"Observed Frequency\" and \"Expected Frequency\"\n",
        "print(grouped_df['Observed Frequency'].sum())\n",
        "print(grouped_df['Expected Frequency'].sum())"
      ],
      "metadata": {
        "colab": {
          "base_uri": "https://localhost:8080/"
        },
        "id": "TBMs2fNlKXX1",
        "outputId": "f00c262b-6d9a-40e2-c70f-2651e3235352"
      },
      "execution_count": 15,
      "outputs": [
        {
          "output_type": "stream",
          "name": "stdout",
          "text": [
            "100\n",
            "98.78693324867051\n"
          ]
        }
      ]
    },
    {
      "cell_type": "code",
      "source": [
        "# To fix this, you need to apply the principle of probability (sum of probabilities should add up to 1).\n",
        "print(grouped_df['POISSON_PMF'].sum())\n",
        "\n",
        "# In our data, the probability for POISSON PMF does not add up to 1."
      ],
      "metadata": {
        "colab": {
          "base_uri": "https://localhost:8080/"
        },
        "id": "bls8UdniKvtn",
        "outputId": "c85bc3ce-8028-4e07-d2eb-b145f2768aa7"
      },
      "execution_count": 16,
      "outputs": [
        {
          "output_type": "stream",
          "name": "stdout",
          "text": [
            "0.9878693324867053\n"
          ]
        }
      ]
    },
    {
      "cell_type": "code",
      "source": [
        "# This is left as self work to the students to be done. If done correctly, the correct grouped_df data frame is provided below. \n",
        "# Hint: Please search the discourse, the correct approach to be followed is specified there.  \n",
        "grouped_df = pd.read_excel('grouped_df.xlsx')\n",
        "print(grouped_df)"
      ],
      "metadata": {
        "colab": {
          "base_uri": "https://localhost:8080/"
        },
        "id": "I80DXM2JLaa0",
        "outputId": "706de5a1-97f1-4c04-cf1b-0b227e76ed57"
      },
      "execution_count": 19,
      "outputs": [
        {
          "output_type": "stream",
          "name": "stdout",
          "text": [
            "    obs  Observed Frequency  POISSON_PMF  Expected Frequency\n",
            "0     1                   3     0.035344            3.534372\n",
            "1     2                  14     0.087299            8.729898\n",
            "2     3                  15     0.143752           14.375232\n",
            "3     4                  16     0.177534           17.753411\n",
            "4     5                  13     0.175404           17.540370\n",
            "5     6                  15     0.144416           14.441572\n",
            "6     7                   8     0.101916           10.191623\n",
            "7     8                   7     0.062933            6.293327\n",
            "8     9                   5     0.034543            3.454337\n",
            "9    10                   2     0.017064            1.706443\n",
            "10   11                   2     0.019794            1.979415\n"
          ]
        }
      ]
    },
    {
      "cell_type": "code",
      "source": [
        "#Step-4A in CHi-Square GOF: Determine the Test Statistics and P-Value \n",
        "chisquare(grouped_df['Observed Frequency'], grouped_df['Expected Frequency'])"
      ],
      "metadata": {
        "colab": {
          "base_uri": "https://localhost:8080/"
        },
        "id": "GLjqrnT1MYC_",
        "outputId": "ba30a3da-2c69-4d23-9828-6488d30a5c67"
      },
      "execution_count": 20,
      "outputs": [
        {
          "output_type": "execute_result",
          "data": {
            "text/plain": [
              "Power_divergenceResult(statistic=5.952451178440295, pvalue=0.819242136621891)"
            ]
          },
          "metadata": {},
          "execution_count": 20
        }
      ]
    },
    {
      "cell_type": "code",
      "source": [
        "# GUIDE FOR INFERENCE IF CONCLUSION IS GOING TO BE BASED ON STEP-4A\n",
        "\n",
        "# REJECT the Null if the p-value < level of significant\n",
        "# DO NOT REJECT the Null if the p-value >= level of significant\n",
        "\n",
        "# Say the level of significance is 5%, then for given data set, p-value (0.694)>>0.05 --> DO NOT REJECT THE NULL\n",
        "\n",
        "# Note: For any level of significance ~>70%, we do not reject the null for the current data set. "
      ],
      "metadata": {
        "id": "GLqtWdKH8TR4"
      },
      "execution_count": 21,
      "outputs": []
    },
    {
      "cell_type": "code",
      "source": [
        "#Step-4B in CHi-Square GOF: Determine the Tabulated Value of the Test Statistic\n",
        "chi2.ppf(0.95,len(grouped_df)-1-1)\n",
        "\n",
        "# GUIDE FOR INFERENCE IF CONCLUSION IS GOING TO BE BASED ON STEP-4B\n",
        "\n",
        "# REJECT the Null if the \"Tabluated Test Statistic Value\" < \"Computed Test Statistic Value\"\n",
        "# DO NOT REJECT the Null if the \"Tabluated Test Statistic Value\" >= \"Computed Test Statistic Value\"\n"
      ],
      "metadata": {
        "colab": {
          "base_uri": "https://localhost:8080/"
        },
        "id": "8JbTax311S0T",
        "outputId": "cd73d819-5b2f-4691-cd14-03a25e078ff0"
      },
      "execution_count": 23,
      "outputs": [
        {
          "output_type": "execute_result",
          "data": {
            "text/plain": [
              "16.918977604620448"
            ]
          },
          "metadata": {},
          "execution_count": 23
        }
      ]
    }
  ]
}